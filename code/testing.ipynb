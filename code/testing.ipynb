{
 "cells": [
  {
   "cell_type": "code",
   "execution_count": 4,
   "id": "9d315691",
   "metadata": {},
   "outputs": [
    {
     "name": "stdout",
     "output_type": "stream",
     "text": [
      "Requirement already satisfied: openai in /opt/anaconda3/envs/seminar/lib/python3.11/site-packages (1.88.0)\n",
      "Requirement already satisfied: yfinance in /opt/anaconda3/envs/seminar/lib/python3.11/site-packages (0.2.63)\n",
      "Requirement already satisfied: pandas in /opt/anaconda3/envs/seminar/lib/python3.11/site-packages (2.3.0)\n",
      "Requirement already satisfied: numpy in /opt/anaconda3/envs/seminar/lib/python3.11/site-packages (2.3.0)\n",
      "Requirement already satisfied: matplotlib in /opt/anaconda3/envs/seminar/lib/python3.11/site-packages (3.10.3)\n",
      "Requirement already satisfied: seaborn in /opt/anaconda3/envs/seminar/lib/python3.11/site-packages (0.13.2)\n",
      "Requirement already satisfied: requests in /opt/anaconda3/envs/seminar/lib/python3.11/site-packages (2.32.4)\n",
      "Requirement already satisfied: beautifulsoup4 in /opt/anaconda3/envs/seminar/lib/python3.11/site-packages (4.13.4)\n",
      "Requirement already satisfied: anyio<5,>=3.5.0 in /opt/anaconda3/envs/seminar/lib/python3.11/site-packages (from openai) (4.9.0)\n",
      "Requirement already satisfied: distro<2,>=1.7.0 in /opt/anaconda3/envs/seminar/lib/python3.11/site-packages (from openai) (1.9.0)\n",
      "Requirement already satisfied: httpx<1,>=0.23.0 in /opt/anaconda3/envs/seminar/lib/python3.11/site-packages (from openai) (0.28.1)\n",
      "Requirement already satisfied: jiter<1,>=0.4.0 in /opt/anaconda3/envs/seminar/lib/python3.11/site-packages (from openai) (0.10.0)\n",
      "Requirement already satisfied: pydantic<3,>=1.9.0 in /opt/anaconda3/envs/seminar/lib/python3.11/site-packages (from openai) (2.11.7)\n",
      "Requirement already satisfied: sniffio in /opt/anaconda3/envs/seminar/lib/python3.11/site-packages (from openai) (1.3.1)\n",
      "Requirement already satisfied: tqdm>4 in /opt/anaconda3/envs/seminar/lib/python3.11/site-packages (from openai) (4.67.1)\n",
      "Requirement already satisfied: typing-extensions<5,>=4.11 in /opt/anaconda3/envs/seminar/lib/python3.11/site-packages (from openai) (4.14.0)\n",
      "Requirement already satisfied: idna>=2.8 in /opt/anaconda3/envs/seminar/lib/python3.11/site-packages (from anyio<5,>=3.5.0->openai) (3.10)\n",
      "Requirement already satisfied: certifi in /opt/anaconda3/envs/seminar/lib/python3.11/site-packages (from httpx<1,>=0.23.0->openai) (2025.6.15)\n",
      "Requirement already satisfied: httpcore==1.* in /opt/anaconda3/envs/seminar/lib/python3.11/site-packages (from httpx<1,>=0.23.0->openai) (1.0.9)\n",
      "Requirement already satisfied: h11>=0.16 in /opt/anaconda3/envs/seminar/lib/python3.11/site-packages (from httpcore==1.*->httpx<1,>=0.23.0->openai) (0.16.0)\n",
      "Requirement already satisfied: annotated-types>=0.6.0 in /opt/anaconda3/envs/seminar/lib/python3.11/site-packages (from pydantic<3,>=1.9.0->openai) (0.7.0)\n",
      "Requirement already satisfied: pydantic-core==2.33.2 in /opt/anaconda3/envs/seminar/lib/python3.11/site-packages (from pydantic<3,>=1.9.0->openai) (2.33.2)\n",
      "Requirement already satisfied: typing-inspection>=0.4.0 in /opt/anaconda3/envs/seminar/lib/python3.11/site-packages (from pydantic<3,>=1.9.0->openai) (0.4.1)\n",
      "Requirement already satisfied: multitasking>=0.0.7 in /opt/anaconda3/envs/seminar/lib/python3.11/site-packages (from yfinance) (0.0.11)\n",
      "Requirement already satisfied: platformdirs>=2.0.0 in /opt/anaconda3/envs/seminar/lib/python3.11/site-packages (from yfinance) (4.3.8)\n",
      "Requirement already satisfied: pytz>=2022.5 in /opt/anaconda3/envs/seminar/lib/python3.11/site-packages (from yfinance) (2025.2)\n",
      "Requirement already satisfied: frozendict>=2.3.4 in /opt/anaconda3/envs/seminar/lib/python3.11/site-packages (from yfinance) (2.4.6)\n",
      "Requirement already satisfied: peewee>=3.16.2 in /opt/anaconda3/envs/seminar/lib/python3.11/site-packages (from yfinance) (3.18.1)\n",
      "Requirement already satisfied: curl_cffi>=0.7 in /opt/anaconda3/envs/seminar/lib/python3.11/site-packages (from yfinance) (0.11.3)\n",
      "Requirement already satisfied: protobuf>=3.19.0 in /opt/anaconda3/envs/seminar/lib/python3.11/site-packages (from yfinance) (6.31.1)\n",
      "Requirement already satisfied: websockets>=13.0 in /opt/anaconda3/envs/seminar/lib/python3.11/site-packages (from yfinance) (15.0.1)\n",
      "Requirement already satisfied: python-dateutil>=2.8.2 in /opt/anaconda3/envs/seminar/lib/python3.11/site-packages (from pandas) (2.9.0.post0)\n",
      "Requirement already satisfied: tzdata>=2022.7 in /opt/anaconda3/envs/seminar/lib/python3.11/site-packages (from pandas) (2025.2)\n",
      "Requirement already satisfied: contourpy>=1.0.1 in /opt/anaconda3/envs/seminar/lib/python3.11/site-packages (from matplotlib) (1.3.2)\n",
      "Requirement already satisfied: cycler>=0.10 in /opt/anaconda3/envs/seminar/lib/python3.11/site-packages (from matplotlib) (0.12.1)\n",
      "Requirement already satisfied: fonttools>=4.22.0 in /opt/anaconda3/envs/seminar/lib/python3.11/site-packages (from matplotlib) (4.58.4)\n",
      "Requirement already satisfied: kiwisolver>=1.3.1 in /opt/anaconda3/envs/seminar/lib/python3.11/site-packages (from matplotlib) (1.4.8)\n",
      "Requirement already satisfied: packaging>=20.0 in /opt/anaconda3/envs/seminar/lib/python3.11/site-packages (from matplotlib) (25.0)\n",
      "Requirement already satisfied: pillow>=8 in /opt/anaconda3/envs/seminar/lib/python3.11/site-packages (from matplotlib) (11.2.1)\n",
      "Requirement already satisfied: pyparsing>=2.3.1 in /opt/anaconda3/envs/seminar/lib/python3.11/site-packages (from matplotlib) (3.2.3)\n",
      "Requirement already satisfied: charset_normalizer<4,>=2 in /opt/anaconda3/envs/seminar/lib/python3.11/site-packages (from requests) (3.4.2)\n",
      "Requirement already satisfied: urllib3<3,>=1.21.1 in /opt/anaconda3/envs/seminar/lib/python3.11/site-packages (from requests) (2.5.0)\n",
      "Requirement already satisfied: soupsieve>1.2 in /opt/anaconda3/envs/seminar/lib/python3.11/site-packages (from beautifulsoup4) (2.7)\n",
      "Requirement already satisfied: cffi>=1.12.0 in /opt/anaconda3/envs/seminar/lib/python3.11/site-packages (from curl_cffi>=0.7->yfinance) (1.17.1)\n",
      "Requirement already satisfied: pycparser in /opt/anaconda3/envs/seminar/lib/python3.11/site-packages (from cffi>=1.12.0->curl_cffi>=0.7->yfinance) (2.22)\n",
      "Requirement already satisfied: six>=1.5 in /opt/anaconda3/envs/seminar/lib/python3.11/site-packages (from python-dateutil>=2.8.2->pandas) (1.17.0)\n"
     ]
    }
   ],
   "source": [
    "!pip install openai yfinance pandas numpy matplotlib seaborn requests beautifulsoup4"
   ]
  },
  {
   "cell_type": "code",
   "execution_count": 5,
   "id": "94989a74",
   "metadata": {},
   "outputs": [],
   "source": [
    "import pandas as pd\n",
    "import numpy as np\n",
    "import matplotlib.pyplot as plt\n",
    "import seaborn as sns\n",
    "from datetime import datetime, timedelta\n",
    "import warnings\n",
    "warnings.filterwarnings('ignore')\n"
   ]
  },
  {
   "cell_type": "code",
   "execution_count": null,
   "id": "cf801020",
   "metadata": {},
   "outputs": [
    {
     "name": "stdout",
     "output_type": "stream",
     "text": [
      "Hệ thống đã được khởi tạo thành công!\n"
     ]
    }
   ],
   "source": [
    "from investment_recommendation_system import InvestmentRecommendationSystem\n",
    "\n",
    "OPENAI_API_KEY = \"open-ai-api-key\"\n",
    "system = InvestmentRecommendationSystem(OPENAI_API_KEY)\n",
    "\n",
    "print(\"Hệ thống đã được khởi tạo thành công!\")"
   ]
  },
  {
   "cell_type": "code",
   "execution_count": 10,
   "id": "8d53ff15",
   "metadata": {},
   "outputs": [
    {
     "name": "stdout",
     "output_type": "stream",
     "text": [
      "=== KIỂM TRA VỚI TIN TỨC VỀ XE ĐIỆN ===\n"
     ]
    },
    {
     "name": "stderr",
     "output_type": "stream",
     "text": [
      "INFO:httpx:HTTP Request: POST https://api.openai.com/v1/chat/completions \"HTTP/1.1 429 Too Many Requests\"\n",
      "INFO:openai._base_client:Retrying request to /chat/completions in 0.444755 seconds\n",
      "INFO:httpx:HTTP Request: POST https://api.openai.com/v1/chat/completions \"HTTP/1.1 429 Too Many Requests\"\n",
      "INFO:openai._base_client:Retrying request to /chat/completions in 0.961967 seconds\n",
      "INFO:httpx:HTTP Request: POST https://api.openai.com/v1/chat/completions \"HTTP/1.1 429 Too Many Requests\"\n",
      "ERROR:investment_recommendation_system:Lỗi khi gọi OpenAI API: Error code: 429 - {'error': {'message': 'You exceeded your current quota, please check your plan and billing details. For more information on this error, read the docs: https://platform.openai.com/docs/guides/error-codes/api-errors.', 'type': 'insufficient_quota', 'param': None, 'code': 'insufficient_quota'}}\n"
     ]
    },
    {
     "name": "stdout",
     "output_type": "stream",
     "text": [
      "Kết quả khuyến nghị:\n",
      "{'status': 'error', 'message': \"Error code: 429 - {'error': {'message': 'You exceeded your current quota, please check your plan and billing details. For more information on this error, read the docs: https://platform.openai.com/docs/guides/error-codes/api-errors.', 'type': 'insufficient_quota', 'param': None, 'code': 'insufficient_quota'}}\"}\n"
     ]
    }
   ],
   "source": [
    "sample_news_1 = \"\"\"\n",
    "Tesla đã công bố kế hoạch mở rộng sản xuất pin lithium-ion và xây dựng \n",
    "thêm 5 nhà máy sản xuất xe điện tại Mỹ. Động thái này được kỳ vọng sẽ \n",
    "thúc đẩy toàn bộ ngành công nghiệp xe điện và các công ty cung cấp linh kiện.\"\"\"\n",
    "\n",
    "print(\"=== KIỂM TRA VỚI TIN TỨC VỀ XE ĐIỆN ===\")\n",
    "recommendations_1 = system.get_stock_recommendations(sample_news_1)\n",
    "print(\"Kết quả khuyến nghị:\")\n",
    "print(recommendations_1)"
   ]
  },
  {
   "cell_type": "code",
   "execution_count": null,
   "id": "01fce620",
   "metadata": {},
   "outputs": [],
   "source": [
    "sample_news_2 = \"\"\"\n",
    "FDA đã phê duyệt một loại thuốc điều trị Alzheimer mới, mở ra cơ hội lớn \n",
    "cho các công ty dược phẩm. Thị trường thuốc điều trị bệnh thần kinh được \n",
    "dự báo sẽ tăng trưởng mạnh trong 5 năm tới.\n",
    "\"\"\"\n",
    "\n",
    "print(\"\\n=== KIỂM TRA VỚI TIN TỨC VỀ DƯỢC PHẨM ===\")\n",
    "recommendations_2 = system.get_stock_recommendations(sample_news_2)\n",
    "print(\"Kết quả khuyến nghị:\")\n",
    "print(recommendations_2)"
   ]
  },
  {
   "cell_type": "code",
   "execution_count": null,
   "id": "a7a704e8",
   "metadata": {},
   "outputs": [],
   "source": [
    "policy_news = \"\"\"\n",
    "Chính phủ công bố gói kích thích kinh tế 2 tỷ USD tập trung vào \n",
    "phát triển hạ tầng công nghệ, bao gồm 5G, AI và điện toán đám mây.\n",
    "Các công ty công nghệ được kỳ vọng sẽ hưởng lợi từ chính sách này.\n",
    "\"\"\"\n",
    "\n",
    "print(\"\\n=== KIỂM TRA KHUYẾN NGHỊ NGÀNH ===\")\n",
    "sector_recommendations = system.get_sector_recommendations(policy_news)\n",
    "print(\"Kết quả khuyến nghị ngành:\")\n",
    "print(sector_recommendations)"
   ]
  },
  {
   "cell_type": "code",
   "execution_count": null,
   "id": "d557344f",
   "metadata": {},
   "outputs": [],
   "source": [
    "if recommendations_1.get('status') == 'yes':\n",
    "    print(\"\\n=== KIỂM TRA TÍNH HỢP LỆ CỦA CỔ PHIẾU ===\")\n",
    "    validation_1 = system.validate_stock_recommendations(recommendations_1['recommendations'])\n",
    "    \n",
    "    print(f\"Tổng số khuyến nghị: {validation_1['total_recommendations']}\")\n",
    "    print(f\"Số cổ phiếu hợp lệ: {validation_1['valid_stocks']}\")\n",
    "    print(f\"Tỷ lệ hợp lệ: {validation_1['valid_stocks']/validation_1['total_recommendations']*100:.1f}%\")\n",
    "    \n",
    "    print(\"\\nChi tiết từng cổ phiếu:\")\n",
    "    for detail in validation_1['validation_details']:\n",
    "        print(f\"- {detail['symbol']}: {'Hợp lệ' if detail['exists'] else 'Không hợp lệ'}\")\n",
    "        if detail['exists']:\n",
    "            print(f\"  Giá hiện tại: ${detail['current_price']:.2f}\")\n",
    "            print(f\"  Ngành: {detail.get('sector', 'N/A')}\")\n"
   ]
  },
  {
   "cell_type": "code",
   "execution_count": null,
   "id": "bb1f58ed",
   "metadata": {},
   "outputs": [],
   "source": [
    "if recommendations_1.get('status') == 'yes':\n",
    "    print(\"\\n=== KIỂM TRA HIỆU SUẤT (BACKTEST) ===\")\n",
    "    backtest_1 = system.backtest_recommendations(recommendations_1['recommendations'], days_forward=30)\n",
    "    \n",
    "    if 'average_return' in backtest_1:\n",
    "        print(f\"Lợi nhuận trung bình sau 30 ngày: {backtest_1['average_return']:.2f}%\")\n",
    "        print(f\"Tỷ lệ thắng: {backtest_1['win_rate']*100:.1f}%\")\n",
    "        \n",
    "        # Vẽ biểu đồ kết quả\n",
    "        valid_results = [r for r in backtest_1['individual_results'] if 'returns_pct' in r]\n",
    "        if valid_results:\n",
    "            returns = [r['returns_pct'] for r in valid_results]\n",
    "            symbols = [r['symbol'] for r in valid_results]\n",
    "            \n",
    "            plt.figure(figsize=(10, 6))\n",
    "            bars = plt.bar(symbols, returns, color=['green' if r > 0 else 'red' for r in returns])\n",
    "            plt.title('Hiệu suất các cổ phiếu được khuyến nghị (30 ngày)')\n",
    "            plt.xlabel('Mã cổ phiếu')\n",
    "            plt.ylabel('Lợi nhuận (%)')\n",
    "            plt.axhline(y=0, color='black', linestyle='-', alpha=0.3)\n",
    "            \n",
    "            # Thêm nhãn giá trị\n",
    "            for bar, return_val in zip(bars, returns):\n",
    "                plt.text(bar.get_x() + bar.get_width()/2, bar.get_height() + 0.5, \n",
    "                        f'{return_val:.1f}%', ha='center', va='bottom')\n",
    "            \n",
    "            plt.xticks(rotation=45)\n",
    "            plt.tight_layout()\n",
    "            plt.show()\n"
   ]
  },
  {
   "cell_type": "code",
   "execution_count": null,
   "id": "2b934d21",
   "metadata": {},
   "outputs": [],
   "source": [
    "def compare_with_market(recommendations, market_symbol=\"SPY\", days=30):\n",
    "    \"\"\"\n",
    "    So sánh hiệu suất khuyến nghị với chỉ số thị trường\n",
    "    \"\"\"\n",
    "    print(f\"\\n=== SO SÁNH VỚI CHỈ SỐ THỊ TRƯỜNG ({market_symbol}) ===\")\n",
    "    \n",
    "    # Lấy hiệu suất thị trường\n",
    "    import yfinance as yf\n",
    "    market = yf.Ticker(market_symbol)\n",
    "    end_date = datetime.now()\n",
    "    start_date = end_date - timedelta(days=days + 30)\n",
    "    market_hist = market.history(start=start_date, end=end_date)\n",
    "    \n",
    "    if len(market_hist) >= days:\n",
    "        market_start = market_hist['Close'].iloc[0]\n",
    "        market_end = market_hist['Close'].iloc[days]\n",
    "        market_return = (market_end - market_start) / market_start * 100\n",
    "        \n",
    "        print(f\"Hiệu suất thị trường ({market_symbol}): {market_return:.2f}%\")\n",
    "        \n",
    "        # So sánh với khuyến nghị\n",
    "        if recommendations.get('status') == 'yes':\n",
    "            backtest = system.backtest_recommendations(recommendations['recommendations'], days_forward=days)\n",
    "            if 'average_return' in backtest:\n",
    "                portfolio_return = backtest['average_return']\n",
    "                print(f\"Hiệu suất trung bình portfolio: {portfolio_return:.2f}%\")\n",
    "                print(f\"Chênh lệch so với thị trường: {portfolio_return - market_return:.2f}%\")\n",
    "                \n",
    "                if portfolio_return > market_return:\n",
    "                    print(\"✅ Portfolio vượt trội so với thị trường\")\n",
    "                else:\n",
    "                    print(\"❌ Portfolio kém hơn so với thị trường\")\n",
    "\n",
    "# Chạy so sánh\n",
    "if recommendations_1.get('status') == 'yes':\n",
    "    compare_with_market(recommendations_1)\n"
   ]
  },
  {
   "cell_type": "code",
   "execution_count": null,
   "id": "3e69daa8",
   "metadata": {},
   "outputs": [],
   "source": [
    "def analyze_by_sector(recommendations):\n",
    "    \"\"\"\n",
    "    Phân tích khuyến nghị theo ngành\n",
    "    \"\"\"\n",
    "    if recommendations.get('status') != 'yes':\n",
    "        return\n",
    "    \n",
    "    print(\"\\n=== PHÂN TÍCH THEO NGÀNH ===\")\n",
    "    \n",
    "    sectors = {}\n",
    "    for rec in recommendations['recommendations']:\n",
    "        symbol = rec['symbol']\n",
    "        try:\n",
    "            import yfinance as yf\n",
    "            stock = yf.Ticker(symbol)\n",
    "            info = stock.info\n",
    "            sector = info.get('sector', 'Unknown')\n",
    "            \n",
    "            if sector not in sectors:\n",
    "                sectors[sector] = []\n",
    "            sectors[sector].append(symbol)\n",
    "        except:\n",
    "            continue\n",
    "    \n",
    "    print(\"Phân bố theo ngành:\")\n",
    "    for sector, symbols in sectors.items():\n",
    "        print(f\"- {sector}: {', '.join(symbols)}\")\n",
    "    \n",
    "    # Vẽ biểu đồ\n",
    "    if sectors:\n",
    "        plt.figure(figsize=(10, 6))\n",
    "        sector_counts = [len(symbols) for symbols in sectors.values()]\n",
    "        plt.pie(sector_counts, labels=sectors.keys(), autopct='%1.1f%%')\n",
    "        plt.title('Phân bố khuyến nghị theo ngành')\n",
    "        plt.axis('equal')\n",
    "        plt.show()\n",
    "\n",
    "# Chạy phân tích ngành\n",
    "if recommendations_1.get('status') == 'yes':\n",
    "    analyze_by_sector(recommendations)"
   ]
  }
 ],
 "metadata": {
  "kernelspec": {
   "display_name": "seminar",
   "language": "python",
   "name": "python3"
  },
  "language_info": {
   "codemirror_mode": {
    "name": "ipython",
    "version": 3
   },
   "file_extension": ".py",
   "mimetype": "text/x-python",
   "name": "python",
   "nbconvert_exporter": "python",
   "pygments_lexer": "ipython3",
   "version": "3.11.13"
  }
 },
 "nbformat": 4,
 "nbformat_minor": 5
}
